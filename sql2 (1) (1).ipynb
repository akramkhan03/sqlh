{
 "cells": [
  {
   "cell_type": "code",
   "execution_count": 1,
   "id": "abe4b299",
   "metadata": {},
   "outputs": [
    {
     "name": "stdout",
     "output_type": "stream",
     "text": [
      "46796E3331\n"
     ]
    }
   ],
   "source": [
    "import sqlite3\n",
    "\n",
    "# Connect to the database (create it if it doesn't exist)\n",
    "conn = sqlite3.connect('database.db')\n",
    "\n",
    "# Create a cursor object to execute SQL commands\n",
    "cursor = conn.cursor()\n",
    "\n",
    "# Create the 'Ages' table\n",
    "cursor.execute('''\n",
    "    CREATE TABLE IF NOT EXISTS Ages (\n",
    "        name VARCHAR(128),\n",
    "        age INTEGER\n",
    "    )\n",
    "''')\n",
    "\n",
    "# Delete any existing rows in the 'Ages' table\n",
    "cursor.execute('DELETE FROM Ages')\n",
    "\n",
    "# Insert the provided rows into the 'Ages' table\n",
    "rows = [\n",
    "    ('Mara', 28),\n",
    "    ('Otto', 33),\n",
    "    ('Fyn', 31),\n",
    "    ('Neshawn', 17)\n",
    "]\n",
    "cursor.executemany('INSERT INTO Ages (name, age) VALUES (?, ?)', rows)\n",
    "\n",
    "# Commit the changes and close the connection\n",
    "conn.commit()\n",
    "conn.close()\n",
    "import sqlite3\n",
    "\n",
    "# Connect to the database\n",
    "conn = sqlite3.connect('database.db')\n",
    "\n",
    "# Create a cursor object to execute SQL commands\n",
    "cursor = conn.cursor()\n",
    "\n",
    "# Execute the SQL command and fetch the first row\n",
    "cursor.execute(\"SELECT hex(name || age) AS X FROM Ages ORDER BY X\")\n",
    "result = cursor.fetchone()\n",
    "\n",
    "# Extract the long string from the result\n",
    "long_string = result[0]\n",
    "\n",
    "# Print the long string\n",
    "print(long_string)\n",
    "\n",
    "# Close the connection\n",
    "conn.close()\n"
   ]
  },
  {
   "cell_type": "code",
   "execution_count": null,
   "id": "9014ca00",
   "metadata": {},
   "outputs": [],
   "source": []
  }
 ],
 "metadata": {
  "kernelspec": {
   "display_name": "Python 3 (ipykernel)",
   "language": "python",
   "name": "python3"
  },
  "language_info": {
   "codemirror_mode": {
    "name": "ipython",
    "version": 3
   },
   "file_extension": ".py",
   "mimetype": "text/x-python",
   "name": "python",
   "nbconvert_exporter": "python",
   "pygments_lexer": "ipython3",
   "version": "3.11.4"
  }
 },
 "nbformat": 4,
 "nbformat_minor": 5
}
